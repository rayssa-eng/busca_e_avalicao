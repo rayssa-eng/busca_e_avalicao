{
 "cells": [
  {
   "cell_type": "code",
   "execution_count": 5,
   "metadata": {},
   "outputs": [],
   "source": [
    "import configparser\n",
    "import nltk\n",
    "import xml.etree.ElementTree as ET\n",
    "import unicodedata\n",
    "from unidecode import unidecode\n",
    "import string\n",
    "import re\n",
    "import csv\n",
    "from tqdm import tqdm"
   ]
  },
  {
   "cell_type": "code",
   "execution_count": 38,
   "metadata": {},
   "outputs": [],
   "source": [
    "config = configparser.ConfigParser()\n",
    "config.read('PC.cfg')\n",
    "\n",
    "query_input_file = config.get('DEFAULT', 'LEIA')\n",
    "query_output_file = config.get('DEFAULT', 'CONSULTAS')\n",
    "esperados_output_file = config.get('DEFAULT', 'ESPERADOS')\n",
    "\n",
    "def parse_queries(file_path, first_field, second_field):\n",
    "    tree = ET.parse(file_path)\n",
    "    root = tree.getroot()\n",
    "    \n",
    "    xml_dict = {}\n",
    "    \n",
    "    for query in root.findall('QUERY'):\n",
    "        key = query.find(first_field).text.strip()\n",
    "        value = query.find(second_field).text.strip()\n",
    "        xml_dict[key] = value\n",
    "        \n",
    "    return xml_dict\n",
    "\n",
    "def parse_esperados(file_path):\n",
    "    # Parse the XML data\n",
    "    tree = ET.parse(file_path)\n",
    "    root = tree.getroot()\n",
    "\n",
    "    docvote_counter = 0\n",
    "    # Initialize the dictionary to store the result\n",
    "    query_dict = {}\n",
    "\n",
    "    # Iterate through each QUERY element\n",
    "    for query in root.findall('QUERY'):\n",
    "        query_number = query.find('QueryNumber').text\n",
    "        records = query.find('Records')\n",
    "        doc_list = {}\n",
    "        \n",
    "        for item in records.findall('Item'):\n",
    "            score = int(item.get('score'))\n",
    "            docnumber = item.text\n",
    "            padded_docnumber = f\"{int(docnumber):05d} \"\n",
    "\n",
    "            if score != 0:\n",
    "                if docnumber not in doc_list.keys():\n",
    "                    docvote_counter = 1\n",
    "                    doc_list.update({padded_docnumber: docvote_counter})\n",
    "                else:\n",
    "                    docvote_counter = doc_list[padded_docnumber] + 1\n",
    "                    doc_list[padded_docnumber] = docvote_counter\n",
    "            else:\n",
    "                if docnumber not in doc_list.keys():\n",
    "                    docvote_counter = 0\n",
    "                    doc_list.update({padded_docnumber: docvote_counter})\n",
    "                else:\n",
    "                    docvote_counter = doc_list[padded_docnumber]\n",
    "                    doc_list[padded_docnumber] = docvote_counter\n",
    "        query_dict[query_number] = doc_list\n",
    "        \n",
    "    return query_dict\n"
   ]
  },
  {
   "cell_type": "code",
   "execution_count": 39,
   "metadata": {},
   "outputs": [],
   "source": [
    "queries = parse_queries(query_input_file, 'QueryNumber', 'QueryText')\n",
    "esperados = parse_esperados(query_input_file)"
   ]
  },
  {
   "cell_type": "code",
   "execution_count": 8,
   "metadata": {},
   "outputs": [],
   "source": [
    "def format_text(text):\n",
    "    text = text.upper()\n",
    "    # Remove accents\n",
    "    text = ''.join(c for c in unicodedata.normalize('NFD', text) if unicodedata.category(c) != 'Mn')\n",
    "    # Remove punctuation\n",
    "    text = re.sub(r'[^\\w\\s]', '', text)\n",
    "    # Remove newlines and extra spaces\n",
    "    text = re.sub(r'\\s+', ' ', text)\n",
    "    return text.strip()"
   ]
  },
  {
   "cell_type": "code",
   "execution_count": 9,
   "metadata": {},
   "outputs": [],
   "source": [
    "formatted_queries = {key: format_text(value) for key, value in queries.items()}\n",
    "# formatted_queries"
   ]
  },
  {
   "cell_type": "code",
   "execution_count": 10,
   "metadata": {},
   "outputs": [],
   "source": [
    "def write_queries_to_csv(queries, output_file):\n",
    "    with open(output_file, mode='w', newline='') as file:\n",
    "        writer = csv.writer(file)\n",
    "        writer.writerow([\"QueryNumber\", \"QueryText\"])\n",
    "        for query_number, query_text in queries.items():\n",
    "            writer.writerow([query_number, query_text])\n",
    "\n",
    "write_queries_to_csv(formatted_queries, query_output_file)\n",
    "            "
   ]
  },
  {
   "cell_type": "code",
   "execution_count": 41,
   "metadata": {},
   "outputs": [],
   "source": [
    "with open(esperados_output_file, 'w', newline='') as csvfile:\n",
    "    csv_writer = csv.writer(csvfile, delimiter=';')\n",
    "    \n",
    "    for query_number, records in esperados.items():\n",
    "        for docnumber, docvote in records.items():\n",
    "            csv_writer.writerow([query_number, docnumber, docvote])"
   ]
  }
 ],
 "metadata": {
  "kernelspec": {
   "display_name": "Python 3",
   "language": "python",
   "name": "python3"
  },
  "language_info": {
   "codemirror_mode": {
    "name": "ipython",
    "version": 3
   },
   "file_extension": ".py",
   "mimetype": "text/x-python",
   "name": "python",
   "nbconvert_exporter": "python",
   "pygments_lexer": "ipython3",
   "version": "3.10.0"
  }
 },
 "nbformat": 4,
 "nbformat_minor": 2
}
