{
 "cells": [
  {
   "cell_type": "code",
   "execution_count": 15,
   "metadata": {},
   "outputs": [],
   "source": [
    "import configparser\n",
    "import nltk\n",
    "import xml.etree.ElementTree as ET\n",
    "import unicodedata\n",
    "from unidecode import unidecode\n",
    "import string\n",
    "import re\n",
    "import csv\n",
    "from tqdm import tqdm"
   ]
  },
  {
   "cell_type": "code",
   "execution_count": 20,
   "metadata": {},
   "outputs": [],
   "source": [
    "config = configparser.ConfigParser()\n",
    "config.read('PC.cfg')\n",
    "\n",
    "query_input_file = config.get('DEFAULT', 'LEIA')\n",
    "query_output_file = config.get('DEFAULT', 'CONSULTAS')\n",
    "esperados_output_file = config.get('DEFAULT', 'ESPERADOS')\n",
    "\n",
    "def parse_xml(file_path, first_field, second_field):\n",
    "    tree = ET.parse(file_path)\n",
    "    root = tree.getroot()\n",
    "    \n",
    "    xml_dict = {}\n",
    "    \n",
    "    for query in root.findall('QUERY'):\n",
    "        key = query.find(first_field).text.strip()\n",
    "        value = query.find(second_field).text.strip()\n",
    "        xml_dict[key] = value\n",
    "        \n",
    "    return queries\n",
    "\n",
    "queries = parse_xml(query_input_file, 'QueryNumber', 'QueryText')\n",
    "# print(queries)\n"
   ]
  },
  {
   "cell_type": "code",
   "execution_count": 17,
   "metadata": {},
   "outputs": [],
   "source": [
    "def format_text(text):\n",
    "    text = text.upper()\n",
    "    # Remove accents\n",
    "    text = ''.join(c for c in unicodedata.normalize('NFD', text) if unicodedata.category(c) != 'Mn')\n",
    "    # Remove punctuation\n",
    "    text = re.sub(r'[^\\w\\s]', '', text)\n",
    "    # Remove newlines and extra spaces\n",
    "    text = re.sub(r'\\s+', ' ', text)\n",
    "    return text.strip()"
   ]
  },
  {
   "cell_type": "code",
   "execution_count": 18,
   "metadata": {},
   "outputs": [],
   "source": [
    "formatted_queries = {key: format_text(value) for key, value in queries.items()}\n",
    "# formatted_queries"
   ]
  },
  {
   "cell_type": "code",
   "execution_count": 21,
   "metadata": {},
   "outputs": [],
   "source": [
    "def write_queries_to_csv(queries, output_file):\n",
    "    with open(output_file, mode='w', newline='') as file:\n",
    "        writer = csv.writer(file)\n",
    "        writer.writerow([\"QueryNumber\", \"QueryText\"])\n",
    "        for query_number, query_text in queries.items():\n",
    "            writer.writerow([query_number, query_text])\n",
    "\n",
    "write_queries_to_csv(formatted_queries, query_output_file)\n",
    "            "
   ]
  },
  {
   "cell_type": "code",
   "execution_count": null,
   "metadata": {},
   "outputs": [],
   "source": []
  }
 ],
 "metadata": {
  "kernelspec": {
   "display_name": "Python 3",
   "language": "python",
   "name": "python3"
  },
  "language_info": {
   "codemirror_mode": {
    "name": "ipython",
    "version": 3
   },
   "file_extension": ".py",
   "mimetype": "text/x-python",
   "name": "python",
   "nbconvert_exporter": "python",
   "pygments_lexer": "ipython3",
   "version": "3.10.0"
  }
 },
 "nbformat": 4,
 "nbformat_minor": 2
}
