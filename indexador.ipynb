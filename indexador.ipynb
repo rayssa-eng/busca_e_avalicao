{
 "cells": [
  {
   "cell_type": "code",
   "execution_count": null,
   "metadata": {},
   "outputs": [],
   "source": [
    "def term_document_matrix(inverted_index):\n",
    "    tdm = {}\n",
    "    for word in inverted_index.keys():\n",
    "        tdm[word] = len([rec_num for rec_num in inverted_index[word]])\n",
    "    return tdm"
   ]
  },
  {
   "cell_type": "code",
   "execution_count": null,
   "metadata": {},
   "outputs": [],
   "source": [
    "from typing import Counter\n",
    "\n",
    "def tf_idf(preprocessed_data, tdm, type_of_tf='relative'):\n",
    "    tf_idf = {}\n",
    "    N = len(preprocessed_data)\n",
    "    for rec_num, tokens in tqdm(preprocessed_data.items()):\n",
    "        counter = Counter(tokens)\n",
    "        words_count = len(tokens)\n",
    "    \n",
    "        for token in np.unique(tokens):\n",
    "            # calculate tf\n",
    "            if type_of_tf == 'relative':\n",
    "                tf = counter[token]\n",
    "                tf = tf / words_count\n",
    "            else:\n",
    "                tf = counter[token]\n",
    "                tf = 1 + np.log(tf)\n",
    "            \n",
    "            # calculate idf\n",
    "            if token in tdm:\n",
    "                df = tdm[token]\n",
    "            else:\n",
    "                df = 0\n",
    "            idf = 1 + np.log((N)/(df))\n",
    "            \n",
    "            # Calculate tf-idf        \n",
    "            tf_idf[rec_num, token] = tf*idf\n",
    "    return tf_idf"
   ]
  }
 ],
 "metadata": {
  "language_info": {
   "name": "python"
  }
 },
 "nbformat": 4,
 "nbformat_minor": 2
}
