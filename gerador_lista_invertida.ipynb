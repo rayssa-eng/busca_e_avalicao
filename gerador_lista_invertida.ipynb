{
 "cells": [
  {
   "cell_type": "code",
   "execution_count": 1,
   "metadata": {},
   "outputs": [],
   "source": [
    "def gli(words, preprocessed_data):\n",
    "    inverted_index = {}\n",
    "    for rec_num, text in preprocessed_data.items():\n",
    "        for word in words:\n",
    "            if word in text:\n",
    "                if word not in inverted_index:\n",
    "                    inverted_index[word] = []\n",
    "                inverted_index[word].extend([rec_num] * text.count(word))\n",
    "    return inverted_index"
   ]
  },
  {
   "cell_type": "code",
   "execution_count": null,
   "metadata": {},
   "outputs": [],
   "source": []
  }
 ],
 "metadata": {
  "kernelspec": {
   "display_name": "Python 3",
   "language": "python",
   "name": "python3"
  },
  "language_info": {
   "codemirror_mode": {
    "name": "ipython",
    "version": 3
   },
   "file_extension": ".py",
   "mimetype": "text/x-python",
   "name": "python",
   "nbconvert_exporter": "python",
   "pygments_lexer": "ipython3",
   "version": "3.10.0"
  }
 },
 "nbformat": 4,
 "nbformat_minor": 2
}
